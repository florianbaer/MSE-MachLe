{
 "cells": [
  {
   "cell_type": "markdown",
   "metadata": {
    "id": "fwKWzkX4sUzG"
   },
   "source": [
    "# kNN and Performance Measures\n"
   ]
  },
  {
   "cell_type": "markdown",
   "metadata": {
    "id": "2oX9rJjEPP_S"
   },
   "source": [
    "### kNN Recap\n",
    "\n",
    "In the K-Nearest Neighbors algorithm, in order to classify a point, we measure the distance (e.g. Euclidean distance) to the nearest k instances of the training set, and let them vote. K is typically chosen to be an odd number.\n",
    "\n",
    "![KNN](https://miro.medium.com/max/1300/0*Sk18h9op6uK9EpT8.)\n"
   ]
  },
  {
   "cell_type": "markdown",
   "metadata": {
    "id": "HvO_eR7nqI0j"
   },
   "source": [
    "### Example\n",
    "We illustrate kNN with a simple synthetic data set."
   ]
  },
  {
   "cell_type": "code",
   "execution_count": null,
   "metadata": {
    "id": "fJ2nghivqQw3"
   },
   "outputs": [],
   "source": [
    "# Import\n",
    "import pandas as pd\n",
    "import matplotlib.pyplot as plt\n",
    "import seaborn as sns\n",
    "import numpy as np\n",
    "\n",
    "# Customize plots\n",
    "%matplotlib inline\n",
    "sns.set_theme(style=\"white\")\n",
    "plt.style.use('grayscale')"
   ]
  },
  {
   "cell_type": "markdown",
   "metadata": {
    "id": "H_irgNanWGoL"
   },
   "source": [
    "The code below generates 16 points in the plane [0,1]. Points with low values of x1 and x2 are associated with class 0 and points with high values of x1 and x2 are associated with class 1."
   ]
  },
  {
   "cell_type": "code",
   "execution_count": null,
   "metadata": {
    "colab": {
     "base_uri": "https://localhost:8080/",
     "height": 551
    },
    "id": "OFaVbSpZqHVc",
    "outputId": "9321c431-480e-4652-dce0-a46870b3683d"
   },
   "outputs": [],
   "source": [
    "# Create Data\n",
    "data = {\"x1\":[0, 0.4, 0.15, 0.05, 0.4, 0.20, 0, 0.45, 1, 0.85, 0.9, 0.7, 0.65, 0.95, 1, 0.8],\n",
    "\"x2\":[0.2, 0.35, 0, 0.10, 0.4, 0.25, 0.40, 0.35, 0.85, 0.95, 1, 0.65, 0.75, 0.9, 0.9, 0.95],\n",
    "\"y\":[0, 0, 0, 0, 0, 0, 0, 0, 1, 1, 1, 1, 1, 1, 1, 1]}\n",
    "\n",
    "data = pd.DataFrame(data)\n",
    "data"
   ]
  },
  {
   "cell_type": "markdown",
   "metadata": {
    "id": "at3Q8Tvuqhbb"
   },
   "source": [
    "We also have 3 new points for which we do not know the class.\n",
    "\n",
    "We want to build a model to find out to which class (0 or 1) these 3 point belong to."
   ]
  },
  {
   "cell_type": "code",
   "execution_count": null,
   "metadata": {
    "colab": {
     "base_uri": "https://localhost:8080/",
     "height": 143
    },
    "id": "OPzW2PLUw7PE",
    "outputId": "5fc24434-3e2a-4a6a-c83e-9dbc3a06e053"
   },
   "outputs": [],
   "source": [
    "# New points\n",
    "p = pd.DataFrame({\"name\":[\"p1\", \"p2\", \"p3\"], \"x1\":[0.15, 0.75, 0.5],\n",
    "\"x2\":[0.35, 0.8, 0.6]})\n",
    "p"
   ]
  },
  {
   "cell_type": "markdown",
   "metadata": {
    "id": "v0YmLeFElLsh"
   },
   "source": [
    "First we plot our dataset with the x1 values on the horizontal axis and the x2 values on the vertical axes. We color points according to the y target variable, which only takes values 0 (red) and 1 (blue).\n",
    "\n",
    "The new points are marked by an orange x marker."
   ]
  },
  {
   "cell_type": "code",
   "execution_count": null,
   "metadata": {
    "colab": {
     "base_uri": "https://localhost:8080/",
     "height": 313
    },
    "id": "C2GaCblLu0FH",
    "outputId": "674f693a-0b0d-4bcc-ab33-e7f43c07cdc7"
   },
   "outputs": [],
   "source": [
    "# Plot\n",
    "data.plot.scatter(\"x1\", \"x2\", c=\"y\", colormap=\"coolwarm_r\", figsize=(7, 5))\n",
    "plt.scatter(p.x1, p.x2, c=\"orange\", marker=\"x\")\n",
    "for point in p.values:\n",
    "  plt.text(point[1]+0.01, point[2], point[0])"
   ]
  },
  {
   "cell_type": "markdown",
   "metadata": {
    "id": "xJuADOPoq2LI"
   },
   "source": [
    "The two classes can be identified on the above scatter plot. In addition, p1 seems to belong to class 0, p2 to class 1. The class assignment for p3 is not so clear. \n",
    "\n",
    "Below we classify the new points using the kNN algorithm with different k (i.e. the number of neighboors we consider for the class voting when assigning a class). "
   ]
  },
  {
   "cell_type": "code",
   "execution_count": null,
   "metadata": {
    "id": "pfFnVdKwmD0-"
   },
   "outputs": [],
   "source": [
    "# Select X and y\n",
    "X = data[[\"x1\", \"x2\"]]\n",
    "y = data[\"y\"]"
   ]
  },
  {
   "cell_type": "markdown",
   "metadata": {
    "id": "uyeNi09LosoB"
   },
   "source": [
    "First build a simple model using the sklearn `KNeighborsClassifier`."
   ]
  },
  {
   "cell_type": "code",
   "execution_count": null,
   "metadata": {
    "colab": {
     "base_uri": "https://localhost:8080/"
    },
    "id": "3zLc0_MhmkFj",
    "outputId": "596892d6-879a-44a5-c2a0-785aabb8db28"
   },
   "outputs": [],
   "source": [
    "from sklearn.neighbors import KNeighborsClassifier\n",
    "knn = KNeighborsClassifier()\n",
    "knn.fit(X, y)\n",
    "y_pred = knn.predict(X)\n",
    "y_pred"
   ]
  },
  {
   "cell_type": "markdown",
   "metadata": {
    "id": "hVshJ6Zuo26r"
   },
   "source": [
    "Let's have a look at what parameters it used by default. We can check their meaning by looking the the [documentation](https://scikit-learn.org/stable/modules/generated/sklearn.neighbors.KNeighborsClassifier.html).\n",
    "\n",
    "* How many neighbors? `n_neighbors` this is the number of neighbors to use. The default is 5.  \n",
    "* What similarity/distance measure to use? `p` set p=2  to use the Euclidean distance (L2) and p = 1 to use the Manhattan distance (l1)\n",
    "* What weight to give to the different neighbors? `weights` use uniform if all points should be given equal weight, use distance if you want to weigh neighbors by the inverse of their distance."
   ]
  },
  {
   "cell_type": "code",
   "execution_count": null,
   "metadata": {
    "colab": {
     "base_uri": "https://localhost:8080/"
    },
    "id": "b8rc0pAZnnWY",
    "outputId": "f81748b8-81a4-4af0-e7d3-0a82f07b5a62"
   },
   "outputs": [],
   "source": [
    "knn"
   ]
  },
  {
   "cell_type": "markdown",
   "metadata": {
    "id": "oM9NSaRpr4XA"
   },
   "source": [
    "But let's now see what class kNN would predict for our 3 points with unknown labels for different values of k."
   ]
  },
  {
   "cell_type": "code",
   "execution_count": null,
   "metadata": {
    "colab": {
     "base_uri": "https://localhost:8080/",
     "height": 338
    },
    "id": "_Ly5UMD_x8Rb",
    "outputId": "f48eaa4b-b4da-48e3-92b8-7243e3eefae5"
   },
   "outputs": [],
   "source": [
    "# KNN plot\n",
    "fig, ax = plt.subplots(1, 3, figsize=(18,5))\n",
    "i = 0\n",
    "for k in [1, 3, 5]:\n",
    "  model = KNeighborsClassifier(n_neighbors=k).fit(X,y)\n",
    "  pred = model.predict(p[[\"x1\", \"x2\"]])\n",
    "  ax[i].scatter(data.x1, data.x2, c=data.y, cmap=\"coolwarm_r\")\n",
    "  ax[i].scatter(p.x1, p.x2, c=pred, cmap=\"coolwarm_r\", marker=\"x\")\n",
    "  ax[i].set_title(\"KNN with k = \" + str(k))\n",
    "  i += 1"
   ]
  },
  {
   "cell_type": "markdown",
   "metadata": {
    "id": "0jB0jxPytQPj"
   },
   "source": [
    "For k = 1 and k = 3, p3 belongs to class 0 while it belongs to class 1 for k = 5."
   ]
  },
  {
   "cell_type": "markdown",
   "metadata": {
    "id": "OScpbfpNV0FG"
   },
   "source": [
    "## Exercise: Diabetes Classification\n",
    "\n",
    "We will work on the diabetes dataset that contains patient attributes (e.g. age, glucose, ...) and information on whether the patient is diagnosed with diabetes (0 meaning \"no\", 1 meaning \"yes\"). The goal is to learn a model that predicts whether a (new) patient has diabetes given based on their individual characteristics (the set of patient attributes). This is a classification task and you can use the kNN classifier.\n",
    "\n",
    "#### 1. Model fitting and performance evaluation\n",
    "Split the data into testsize 20% and trainsize 80% and perform classification using a k-NN classifier with k = 5.\n",
    "Calculate accuracy, recall, precision and f1-score for your classifier and plot the confusion matrix \n",
    "to analyze the performance of the model."
   ]
  },
  {
   "cell_type": "code",
   "execution_count": null,
   "metadata": {
    "colab": {
     "base_uri": "https://localhost:8080/",
     "height": 929
    },
    "id": "4soIYuNG-0eS",
    "outputId": "5e9cead6-9b92-485e-c6cf-ce654a4aef8b"
   },
   "outputs": [],
   "source": [
    "# Import additional libraries\n",
    "# data splitting\n",
    "from sklearn.model_selection import train_test_split\n",
    "# performance measures\n",
    "from sklearn.metrics import roc_curve, roc_auc_score\n",
    "from sklearn.metrics import precision_recall_curve\n",
    "from sklearn.metrics import confusion_matrix,f1_score,precision_score,recall_score,accuracy_score,average_precision_score\n",
    "# classifier\n",
    "from sklearn.neighbors import KNeighborsClassifier\n",
    "# set a random seed\n",
    "np.random.seed(1)\n",
    "\n",
    "# get data\n",
    "df = pd.read_csv('DiabetesDataset.csv')\n",
    "display(df.info())\n",
    "# keep the patient characteristics as inputs x and the diabetes as target y\n",
    "x = df.drop(columns=['Diabetes'])\n",
    "y = df['Diabetes'].values\n",
    "labels = [\"No Diabetes\", \"Diabetes\"]\n",
    "\n",
    "#### START YOUR SOLUTION HERE ####\n",
    "# Split data into training and test dataset\n",
    "X_train, X_test, y_train, y_test = train_test_split(x, y, test_size=0.2, shuffle=True)\n",
    "\n",
    "# Fit kNN model with k=5 to the training data\n",
    "classifier = KNeighborsClassifier(n_neighbors=5).fit(X_train, y_train)\n",
    "\n",
    "# Get predictions on test set\n",
    "preds = classifier.predict(X_test)\n",
    "\n",
    "# Compute the performance measures listed in the text above\n",
    "conf_matrix = confusion_matrix(y_test, preds)\n",
    "f1 = f1_score(y_test, preds)\n",
    "precision = precision_score(y_test, preds)\n",
    "recall = recall_score(y_test, preds)\n",
    "acc = accuracy_score(y_test, preds)\n",
    "avg_prec = average_precision_score(y_test, preds)\n",
    "\n",
    "# Print the values of all performance measures except the confusion matrix \n",
    "print(f\"f1: {f1}\")\n",
    "print(f\"precision: {precision}\")\n",
    "print(f\"recall: {recall}\")\n",
    "print(f\"acc: {acc}\")\n",
    "print(f\"avg_prec: {avg_prec}\")\n",
    "# Display confusion matrix using a heatmap\n",
    "sns.heatmap(conf_matrix)\n",
    "\n",
    "#### END YOUR SOLUTION HERE ####\n"
   ]
  },
  {
   "cell_type": "markdown",
   "metadata": {
    "id": "LloDVneY-0eT"
   },
   "source": [
    "#### 2. Performance Curves\n",
    "Compute the values necessary for plotting the area under the ROC and Precision-Recall curves and then plot and inspect the curves."
   ]
  },
  {
   "cell_type": "code",
   "execution_count": null,
   "metadata": {
    "colab": {
     "base_uri": "https://localhost:8080/",
     "height": 621
    },
    "id": "L7WoCbGV-0eT",
    "outputId": "cd9f5dd8-344d-4bdd-fffe-fe0adc6150ff"
   },
   "outputs": [],
   "source": [
    "from sklearn.metrics import roc_curve\n",
    "from sklearn.metrics import auc\n",
    "\n",
    "# Predict probabilities for the test set\n",
    "probs = classifier.predict_proba(X_test)\n",
    "\n",
    "# Keep the Probabilities of the positive class only\n",
    "probs = probs[:, 1]\n",
    "\n",
    "# Function for plotting the ROC curve\n",
    "def plot_roc_curve(fpr, tpr):\n",
    "    plt.plot(fpr, tpr, color='orange', label='ROC')\n",
    "    plt.plot([0, 1], [0, 1], color='darkblue', linestyle='--', label = 'random classifier')\n",
    "    plt.xlabel('False Positive Rate')\n",
    "    plt.ylabel('True Positive Rate')\n",
    "    plt.title('Receiver Operating Characteristic (ROC) Curve')\n",
    "    plt.legend()\n",
    "    plt.show()\n",
    "\n",
    "# Function for plotting the Precision-Recall curve\n",
    "def plot_rpc(recall, precision):\n",
    "    plt.plot(recall, precision, color='orange', label='RPC')\n",
    "    plt.ylabel('Precision')\n",
    "    plt.xlabel('Recall = True Positive Rate')\n",
    "    plt.title('Recall-Precision Curve')\n",
    "    plt.legend()\n",
    "    plt.show()\n",
    "\n",
    "\n",
    "#### START YOUR SOLUTION HERE ####\n",
    "# Compute and plot ROC curve (check out the function roc_curve)\n",
    "fpr1, tpr1, thresh1 = roc_curve(y_test, probs, pos_label=1)\n",
    "plot_roc_curve(fpr1, tpr1)\n",
    "\n",
    "# Compute the Area Under the ROC Curve (AUC) - the ROC AUC score\n",
    "print(roc_auc_score(y_test, preds))\n",
    "\n",
    "# Plot Precision-Recall curve\n",
    "precision, recall, _ = precision_recall_curve(y_test, probs)\n",
    "plot_rpc(recall, precision)\n",
    "\n",
    "# Compute average precision - Precision-Recall AUC\n",
    "auc(recall, precision)\n",
    "\n",
    "#### END YOUR SOLUTION HERE ####"
   ]
  },
  {
   "cell_type": "markdown",
   "metadata": {
    "id": "B7VuCkgf-0eT"
   },
   "source": [
    "#### 3. Assignment: Different Values of k\n",
    "Now fit two additional k-NN classifies to the same dataset with `k` values 1 and n (number of training samples), respectively. Compute the accuracies and plot the corresponding confusion matrix to analyze the prediction results for each model."
   ]
  },
  {
   "cell_type": "code",
   "execution_count": null,
   "metadata": {
    "colab": {
     "base_uri": "https://localhost:8080/",
     "height": 603
    },
    "id": "vLV5cUtt-0eT",
    "outputId": "3ffdee76-eccf-47d6-ce04-23f1ac499db2"
   },
   "outputs": [],
   "source": [
    "# Perform a k-NN on the given dataset and plot the confusion matrix\n",
    "# compute number of samples\n",
    "n = len(y_train)\n",
    "print(n)\n",
    "for k in [1, n]:\n",
    "    #### START YOUR SOLUTION HERE ####\n",
    "    # Fit a kNN classifier\n",
    "    classifier = KNeighborsClassifier(n_neighbors=k).fit(X_train, y_train)\n",
    "\n",
    "    # Compute the predictions on the test data using the trained model\n",
    "    preds = classifier.predict(X_test)\n",
    "  \n",
    "    # Compute accuracy\n",
    "    acc = accuracy_score(y_test, preds)\n",
    "    print(f'Accuracy: {acc}')\n",
    "    \n",
    "    # Compute the confusion matrix\n",
    "    conf_matrix = confusion_matrix(y_test, preds)\n",
    "    \n",
    "    # Plot the confusion matrix using a heatmap\n",
    "    sns.heatmap(conf_matrix)\n",
    "    plt.show()\n",
    "    \n",
    "    #### END YOUR SOLUTION HERE ####"
   ]
  },
  {
   "cell_type": "code",
   "execution_count": null,
   "metadata": {
    "id": "jkMZ6Jq5-0eT"
   },
   "outputs": [],
   "source": []
  }
 ],
 "metadata": {
  "colab": {
   "collapsed_sections": [],
   "provenance": []
  },
  "kernelspec": {
   "display_name": "Python 3 (ipykernel)",
   "language": "python",
   "name": "python3"
  },
  "language_info": {
   "codemirror_mode": {
    "name": "ipython",
    "version": 3
   },
   "file_extension": ".py",
   "mimetype": "text/x-python",
   "name": "python",
   "nbconvert_exporter": "python",
   "pygments_lexer": "ipython3",
   "version": "3.10.6"
  }
 },
 "nbformat": 4,
 "nbformat_minor": 4
}
