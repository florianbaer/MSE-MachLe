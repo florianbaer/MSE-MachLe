{
 "cells": [
  {
   "cell_type": "markdown",
   "metadata": {
    "id": "f7a_hEfThRmX"
   },
   "source": [
    "# Regularization (Ridge Regression) and Cross-validation\n",
    "\n"
   ]
  },
  {
   "cell_type": "code",
   "execution_count": null,
   "metadata": {
    "id": "bJjyIvKFhRmY"
   },
   "outputs": [],
   "source": [
    "# Useful starting lines\n",
    "%matplotlib inline\n",
    "import numpy as np\n",
    "import matplotlib.pyplot as plt\n",
    "from matplotlib import collections  as mc\n",
    "%load_ext autoreload\n",
    "%autoreload 2\n",
    "import pandas as pd \n",
    "import seaborn as sns\n",
    "from sklearn.preprocessing import LabelEncoder, OneHotEncoder\n",
    "from sklearn.linear_model import LinearRegression\n",
    "sns.set_style(\"white\")"
   ]
  },
  {
   "cell_type": "markdown",
   "metadata": {
    "id": "QsaBbrf1hRmd"
   },
   "source": [
    "### Load the data\n",
    "We are going to use an advertisement dataset. The task is to figure out how different means of advertisement influence the amount of sales of a product.\n",
    "    \n",
    "Let's load the data with Pandas!"
   ]
  },
  {
   "cell_type": "code",
   "execution_count": null,
   "metadata": {
    "colab": {
     "base_uri": "https://localhost:8080/",
     "height": 205
    },
    "id": "cO3PNCKehRme",
    "outputId": "26d391b9-60be-47e7-c0df-77b6daaaa11c"
   },
   "outputs": [],
   "source": [
    "# data loading\n",
    "ad_df = pd.read_csv('Advertising.csv')\n",
    "# view the first 5 rows \n",
    "ad_df.head()"
   ]
  },
  {
   "cell_type": "markdown",
   "metadata": {
    "id": "3fG6nE9khRna"
   },
   "source": [
    "### Fit a linear regression\n",
    "Let's use TV and Radio advertisment as features to predict the sales.\n"
   ]
  },
  {
   "cell_type": "code",
   "execution_count": null,
   "metadata": {
    "colab": {
     "base_uri": "https://localhost:8080/"
    },
    "id": "k7dBH933hRna",
    "outputId": "671af43f-51f3-44e8-b316-97ab8ad4ee08"
   },
   "outputs": [],
   "source": [
    "# making the data matrix and output\n",
    "X = np.array(ad_df[[\"TV\", \"Radio\"]])\n",
    "y = np.array(ad_df[\"Sales\"])\n",
    "# check their dimensions\n",
    "X.shape, y.shape"
   ]
  },
  {
   "cell_type": "code",
   "execution_count": null,
   "metadata": {
    "colab": {
     "base_uri": "https://localhost:8080/"
    },
    "id": "2sdYDWy3hRnd",
    "outputId": "e20b5e59-8a18-4a02-b652-0abe4088f70e"
   },
   "outputs": [],
   "source": [
    "# fit a linear regression model and check out the coefficients\n",
    "LR = LinearRegression(fit_intercept=True)\n",
    "LR.fit(X, y)\n",
    "print(\"params: \", LR.coef_)\n",
    "print(\"constant: \", LR.intercept_)\n",
    "print(\"R^2 score: \", LR.score(X, y))"
   ]
  },
  {
   "cell_type": "code",
   "execution_count": null,
   "metadata": {
    "colab": {
     "base_uri": "https://localhost:8080/"
    },
    "id": "PgWBArwrhRng",
    "outputId": "a1d26ba2-c658-457f-c409-9110dcb1fb04"
   },
   "outputs": [],
   "source": [
    "# make some predictions\n",
    "print(\"TV: \", 200, \"Radio: \", 50, \"Sales: \", LR.predict(np.array([200, 50]).reshape(-1,2)))\n",
    "print(\"TV: \", 200, \"Radio: \", 30, \"Sales: \", LR.predict(np.array([200, 30]).reshape(-1,2)))"
   ]
  },
  {
   "cell_type": "markdown",
   "metadata": {
    "id": "CqPaFAbahRnr"
   },
   "source": [
    "### Using polynomial features (polynomial combination of features)\n",
    "Sometimes the data cannot be explained by just a linear model and using a linear model yields a high error. In these cases we can add polynomial features to the data which is equivalent to fitting polynomial functions on the data points."
   ]
  },
  {
   "cell_type": "code",
   "execution_count": null,
   "metadata": {
    "id": "FqadN6f-hRns"
   },
   "outputs": [],
   "source": [
    "from sklearn.preprocessing import PolynomialFeatures\n",
    "# use polynomial features (nonlinear model)\n",
    "poly = PolynomialFeatures(2)\n",
    "X = np.array(ad_df[[\"TV\", \"Radio\"]])\n",
    "y = np.array(ad_df[\"Sales\"])\n",
    "X_poly = poly.fit_transform(X)"
   ]
  },
  {
   "cell_type": "code",
   "execution_count": null,
   "metadata": {
    "colab": {
     "base_uri": "https://localhost:8080/"
    },
    "id": "LqJggNQZhRny",
    "outputId": "aee9d036-6978-474d-ddd7-6dfcc36248d4"
   },
   "outputs": [],
   "source": [
    "X_poly.shape"
   ]
  },
  {
   "cell_type": "code",
   "execution_count": null,
   "metadata": {
    "colab": {
     "base_uri": "https://localhost:8080/"
    },
    "id": "qgpU4Pl7hRn2",
    "outputId": "dead37fa-77d9-4a61-e93c-621501b297cd"
   },
   "outputs": [],
   "source": [
    "LR = LinearRegression(fit_intercept=False) # we don't need fit intercept sice polynomial features function adds a column of ones to the data \n",
    "LR.fit(X_poly, y)\n",
    "print(\"params: \", LR.coef_)\n",
    "print(\"R^2 score: \", LR.score(X_poly, y))"
   ]
  },
  {
   "cell_type": "markdown",
   "metadata": {
    "id": "M-ZCOsT2hRn7"
   },
   "source": [
    "### Training/Test split and Overfitting"
   ]
  },
  {
   "cell_type": "markdown",
   "metadata": {
    "id": "7V9tcU_nhRn8"
   },
   "source": [
    "The standard practice in Machine Learning is to keep the test data out of the model training and try to evaluate the model's performance on the unseen data in the test set."
   ]
  },
  {
   "cell_type": "markdown",
   "metadata": {
    "id": "meAdAKkohRn-"
   },
   "source": [
    "Now let's see the effect of adding more polynomial features. Adding too many of these features will result in complex models that may cause overfitting. We can check this by plotting curves of the training and the test errors."
   ]
  },
  {
   "cell_type": "code",
   "execution_count": null,
   "metadata": {
    "id": "bRkiSjC4hRoB"
   },
   "outputs": [],
   "source": [
    "from sklearn.model_selection import train_test_split\n",
    "from sklearn.metrics import mean_squared_error"
   ]
  },
  {
   "cell_type": "code",
   "execution_count": null,
   "metadata": {
    "id": "X7pJ4NSFhRoF"
   },
   "outputs": [],
   "source": [
    "# let's now use 1 feature from the data, namely TV, to predict the Sales\n",
    "X = np.array(ad_df[[\"TV\"]])\n",
    "y = np.array(ad_df[\"Sales\"])"
   ]
  },
  {
   "cell_type": "code",
   "execution_count": null,
   "metadata": {
    "colab": {
     "base_uri": "https://localhost:8080/",
     "height": 296
    },
    "id": "-kLF_v8jhRoJ",
    "outputId": "cf34c09c-6e90-418e-c436-69296687c598"
   },
   "outputs": [],
   "source": [
    "train_err = []\n",
    "test_err = []\n",
    "# fit models using polynomial features of orders between 1 and 6\n",
    "# higher order polynomials have a higher model complexity \n",
    "for f in range(1,7):\n",
    "    poly = PolynomialFeatures(f)\n",
    "    X_poly = poly.fit_transform(X)\n",
    "    X_train, X_test, y_train, y_test = train_test_split(X_poly, y, test_size=0.2, random_state=1)\n",
    "    LR = LinearRegression(fit_intercept=False)\n",
    "    LR.fit(X_train, y_train)\n",
    "    train_err.append(mean_squared_error(y_train, LR.predict(X_train)))\n",
    "    test_err.append(mean_squared_error(y_test, LR.predict(X_test)))\n",
    "# plot the training and test errors for the different models used    \n",
    "plt.plot(range(1,7), train_err, label=\"train_error\")\n",
    "plt.plot(range(1,7), test_err, label=\"test_error\")\n",
    "plt.legend(fontsize=10)\n",
    "plt.xlabel(\"polynomial degree\")\n",
    "plt.ylabel(\"error\")"
   ]
  },
  {
   "cell_type": "markdown",
   "metadata": {
    "id": "oAHyKh3nhRoM"
   },
   "source": [
    "### Fit Ridge regression to avoid overfitting\n",
    "To avoid overfitting we can penalize the norm of the weight vector to encourage simpler models. This is called regularization. We will use Ridge Regression (linear regression with L2 regularizer). By tuning the regularization parameter (the hyperparameter of the model that controls its complexity) $\\alpha$ we can minimize the test error."
   ]
  },
  {
   "cell_type": "code",
   "execution_count": null,
   "metadata": {
    "id": "C-EFZrDehRoN"
   },
   "outputs": [],
   "source": [
    "from sklearn.linear_model import Ridge\n",
    "poly = PolynomialFeatures(2)\n",
    "X_poly = poly.fit_transform(X)\n",
    "X_train, X_test, y_train, y_test = train_test_split(X_poly, y, test_size=0.2, random_state=1)\n",
    "test_err = []\n",
    "for alpha in np.linspace(0.1, 1, num=10):\n",
    "    ridge_regression = Ridge(alpha=alpha)\n",
    "    ridge_regression.fit(X_train, y_train)\n",
    "    test_err.append(mean_squared_error(y_test, ridge_regression.predict(X_test)))\n",
    "    "
   ]
  },
  {
   "cell_type": "code",
   "execution_count": null,
   "metadata": {
    "colab": {
     "base_uri": "https://localhost:8080/",
     "height": 294
    },
    "id": "zfdGqmiXhRoQ",
    "outputId": "a7ce27eb-d67c-464b-d4c0-c71f3ec43362"
   },
   "outputs": [],
   "source": [
    "# plot the test error for different values of alpha\n",
    "plt.semilogx(np.logspace(-4, 2, num=10), test_err)\n",
    "plt.xlabel(\"alpha\")\n",
    "plt.ylabel(\"test error\");"
   ]
  },
  {
   "cell_type": "markdown",
   "metadata": {
    "id": "EdQiAgDJhRoT"
   },
   "source": [
    "### Use cross validation to chose the best value for the regularization parameter\n",
    "One way to do a hyperparameter tuning is through cross validation. Let's do a 5-fold CV. We need to make sure that our model has a good generalisation power and performs well on unseen data. For this purpose we can use the RidgeCV function."
   ]
  },
  {
   "cell_type": "code",
   "execution_count": null,
   "metadata": {
    "colab": {
     "base_uri": "https://localhost:8080/"
    },
    "id": "pqqLhvZfhRoU",
    "outputId": "26b5b4b3-9377-44d1-993b-1b59dca9b38c"
   },
   "outputs": [],
   "source": [
    "# we use ridge regression with built in cross validation\n",
    "from sklearn.linear_model import RidgeCV\n",
    "ridge = RidgeCV(fit_intercept=False, cv=5)\n",
    "ridge.fit(X_train, y_train)"
   ]
  },
  {
   "cell_type": "code",
   "execution_count": null,
   "metadata": {
    "colab": {
     "base_uri": "https://localhost:8080/"
    },
    "id": "xS6OJjuYhRoV",
    "outputId": "01ccd324-d196-4d1b-b668-2fd3ad28dd99"
   },
   "outputs": [],
   "source": [
    "# print he fitted regression coefficients\n",
    "ridge.coef_"
   ]
  },
  {
   "cell_type": "code",
   "execution_count": null,
   "metadata": {
    "colab": {
     "base_uri": "https://localhost:8080/"
    },
    "id": "4nsvxMmWhRoX",
    "outputId": "63016a86-3fd4-481d-8cd6-d49775c1f202"
   },
   "outputs": [],
   "source": [
    "# best regularizer\n",
    "ridge.alpha_"
   ]
  },
  {
   "cell_type": "code",
   "execution_count": null,
   "metadata": {
    "colab": {
     "base_uri": "https://localhost:8080/"
    },
    "id": "A0-iv3v1hRoc",
    "outputId": "cd86a1f2-cf70-4aef-d6be-e502dae97cea"
   },
   "outputs": [],
   "source": [
    "# fit the model with the best selected alpha\n",
    "ridge_best = Ridge(alpha=ridge.alpha_)\n",
    "ridge_best.fit(X_train, y_train)\n",
    "# compute the MSE on the test set\n",
    "mean_squared_error(y_test, ridge_best.predict(X_test))"
   ]
  },
  {
   "cell_type": "code",
   "execution_count": null,
   "metadata": {},
   "outputs": [],
   "source": []
  }
 ],
 "metadata": {
  "colab": {
   "include_colab_link": true,
   "name": "Linear_Regression_Basics.ipynb",
   "provenance": []
  },
  "kernel_info": {
   "name": "python3"
  },
  "kernelspec": {
   "display_name": "Python 3 (ipykernel)",
   "language": "python",
   "name": "python3"
  },
  "language_info": {
   "codemirror_mode": {
    "name": "ipython",
    "version": 3
   },
   "file_extension": ".py",
   "mimetype": "text/x-python",
   "name": "python",
   "nbconvert_exporter": "python",
   "pygments_lexer": "ipython3",
   "version": "3.10.6"
  },
  "nteract": {
   "version": "0.15.0"
  },
  "widgets": {
   "application/vnd.jupyter.widget-state+json": {
    "0bc9eb5635d942b7a841803cae9dc08c": {
     "model_module": "@jupyter-widgets/controls",
     "model_module_version": "1.5.0",
     "model_name": "IntSliderModel",
     "state": {
      "_dom_classes": [],
      "_model_module": "@jupyter-widgets/controls",
      "_model_module_version": "1.5.0",
      "_model_name": "IntSliderModel",
      "_view_count": null,
      "_view_module": "@jupyter-widgets/controls",
      "_view_module_version": "1.5.0",
      "_view_name": "IntSliderView",
      "continuous_update": true,
      "description": "n_iter",
      "description_tooltip": null,
      "disabled": false,
      "layout": "IPY_MODEL_7a67591420d44756b2c0f07b667b300a",
      "max": 50,
      "min": 1,
      "orientation": "horizontal",
      "readout": true,
      "readout_format": "d",
      "step": 1,
      "style": "IPY_MODEL_d7003d21726e40148dc1aeac9adcc5f8",
      "value": 50
     }
    },
    "123281eb59db4a2f8c8165454468b1b0": {
     "model_module": "@jupyter-widgets/controls",
     "model_module_version": "1.5.0",
     "model_name": "VBoxModel",
     "state": {
      "_dom_classes": [
       "widget-interact"
      ],
      "_model_module": "@jupyter-widgets/controls",
      "_model_module_version": "1.5.0",
      "_model_name": "VBoxModel",
      "_view_count": null,
      "_view_module": "@jupyter-widgets/controls",
      "_view_module_version": "1.5.0",
      "_view_name": "VBoxView",
      "box_style": "",
      "children": [
       "IPY_MODEL_0bc9eb5635d942b7a841803cae9dc08c",
       "IPY_MODEL_5c541e63abe4450b80373b7a09067e43"
      ],
      "layout": "IPY_MODEL_2284faddd23244d7b16bf8128f04a882"
     }
    },
    "2284faddd23244d7b16bf8128f04a882": {
     "model_module": "@jupyter-widgets/base",
     "model_module_version": "1.2.0",
     "model_name": "LayoutModel",
     "state": {
      "_model_module": "@jupyter-widgets/base",
      "_model_module_version": "1.2.0",
      "_model_name": "LayoutModel",
      "_view_count": null,
      "_view_module": "@jupyter-widgets/base",
      "_view_module_version": "1.2.0",
      "_view_name": "LayoutView",
      "align_content": null,
      "align_items": null,
      "align_self": null,
      "border": null,
      "bottom": null,
      "display": null,
      "flex": null,
      "flex_flow": null,
      "grid_area": null,
      "grid_auto_columns": null,
      "grid_auto_flow": null,
      "grid_auto_rows": null,
      "grid_column": null,
      "grid_gap": null,
      "grid_row": null,
      "grid_template_areas": null,
      "grid_template_columns": null,
      "grid_template_rows": null,
      "height": null,
      "justify_content": null,
      "justify_items": null,
      "left": null,
      "margin": null,
      "max_height": null,
      "max_width": null,
      "min_height": null,
      "min_width": null,
      "object_fit": null,
      "object_position": null,
      "order": null,
      "overflow": null,
      "overflow_x": null,
      "overflow_y": null,
      "padding": null,
      "right": null,
      "top": null,
      "visibility": null,
      "width": null
     }
    },
    "53fb7c417a29454d8172e1f5b3f7b8c9": {
     "model_module": "@jupyter-widgets/base",
     "model_module_version": "1.2.0",
     "model_name": "LayoutModel",
     "state": {
      "_model_module": "@jupyter-widgets/base",
      "_model_module_version": "1.2.0",
      "_model_name": "LayoutModel",
      "_view_count": null,
      "_view_module": "@jupyter-widgets/base",
      "_view_module_version": "1.2.0",
      "_view_name": "LayoutView",
      "align_content": null,
      "align_items": null,
      "align_self": null,
      "border": null,
      "bottom": null,
      "display": null,
      "flex": null,
      "flex_flow": null,
      "grid_area": null,
      "grid_auto_columns": null,
      "grid_auto_flow": null,
      "grid_auto_rows": null,
      "grid_column": null,
      "grid_gap": null,
      "grid_row": null,
      "grid_template_areas": null,
      "grid_template_columns": null,
      "grid_template_rows": null,
      "height": null,
      "justify_content": null,
      "justify_items": null,
      "left": null,
      "margin": null,
      "max_height": null,
      "max_width": null,
      "min_height": null,
      "min_width": null,
      "object_fit": null,
      "object_position": null,
      "order": null,
      "overflow": null,
      "overflow_x": null,
      "overflow_y": null,
      "padding": null,
      "right": null,
      "top": null,
      "visibility": null,
      "width": null
     }
    },
    "5c541e63abe4450b80373b7a09067e43": {
     "model_module": "@jupyter-widgets/output",
     "model_module_version": "1.0.0",
     "model_name": "OutputModel",
     "state": {
      "_dom_classes": [],
      "_model_module": "@jupyter-widgets/output",
      "_model_module_version": "1.0.0",
      "_model_name": "OutputModel",
      "_view_count": null,
      "_view_module": "@jupyter-widgets/output",
      "_view_module_version": "1.0.0",
      "_view_name": "OutputView",
      "layout": "IPY_MODEL_53fb7c417a29454d8172e1f5b3f7b8c9",
      "msg_id": "",
      "outputs": [
       {
        "data": {
         "image/png": "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\n",
         "text/plain": "<Figure size 720x432 with 3 Axes>"
        },
        "metadata": {
         "needs_background": "light"
        },
        "output_type": "display_data"
       }
      ]
     }
    },
    "7a67591420d44756b2c0f07b667b300a": {
     "model_module": "@jupyter-widgets/base",
     "model_module_version": "1.2.0",
     "model_name": "LayoutModel",
     "state": {
      "_model_module": "@jupyter-widgets/base",
      "_model_module_version": "1.2.0",
      "_model_name": "LayoutModel",
      "_view_count": null,
      "_view_module": "@jupyter-widgets/base",
      "_view_module_version": "1.2.0",
      "_view_name": "LayoutView",
      "align_content": null,
      "align_items": null,
      "align_self": null,
      "border": null,
      "bottom": null,
      "display": null,
      "flex": null,
      "flex_flow": null,
      "grid_area": null,
      "grid_auto_columns": null,
      "grid_auto_flow": null,
      "grid_auto_rows": null,
      "grid_column": null,
      "grid_gap": null,
      "grid_row": null,
      "grid_template_areas": null,
      "grid_template_columns": null,
      "grid_template_rows": null,
      "height": null,
      "justify_content": null,
      "justify_items": null,
      "left": null,
      "margin": null,
      "max_height": null,
      "max_width": null,
      "min_height": null,
      "min_width": null,
      "object_fit": null,
      "object_position": null,
      "order": null,
      "overflow": null,
      "overflow_x": null,
      "overflow_y": null,
      "padding": null,
      "right": null,
      "top": null,
      "visibility": null,
      "width": null
     }
    },
    "d7003d21726e40148dc1aeac9adcc5f8": {
     "model_module": "@jupyter-widgets/controls",
     "model_module_version": "1.5.0",
     "model_name": "SliderStyleModel",
     "state": {
      "_model_module": "@jupyter-widgets/controls",
      "_model_module_version": "1.5.0",
      "_model_name": "SliderStyleModel",
      "_view_count": null,
      "_view_module": "@jupyter-widgets/base",
      "_view_module_version": "1.2.0",
      "_view_name": "StyleView",
      "description_width": "",
      "handle_color": null
     }
    }
   }
  }
 },
 "nbformat": 4,
 "nbformat_minor": 4
}
