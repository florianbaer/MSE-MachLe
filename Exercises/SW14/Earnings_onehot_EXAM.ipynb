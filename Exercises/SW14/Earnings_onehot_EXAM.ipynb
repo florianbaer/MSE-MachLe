{
 "cells": [
  {
   "cell_type": "markdown",
   "metadata": {},
   "source": [
    "# Factors that influence the salary (wages, earning)\n",
    "Exam Example"
   ]
  },
  {
   "cell_type": "markdown",
   "metadata": {},
   "source": [
    "Enter your name here:\n",
    "\n",
    "## Name:\n",
    "\n",
    "## First Name:\n",
    "    "
   ]
  },
  {
   "cell_type": "markdown",
   "metadata": {},
   "source": [
    "We are given one-hot encoded panel data on earnings of 595 individuals for the years 1976–1982, originating from the [Panel Study of Income Dynamics](https://rdrr.io/cran/AER/man/PSID7682.html). The data were originally analyzed by Cornwell and Rupert (1988) and employed for assessing various instrumental-variable estimators for panel models.\n",
    "\n",
    "**Your task is to predict the earnings class (`wage_class`) based on the remaining features.**"
   ]
  },
  {
   "cell_type": "markdown",
   "metadata": {},
   "source": [
    "%%html\n",
    "<style> |\n",
    "table td, table th, table tr {text-align:left !important;}\n",
    "</style>"
   ]
  },
  {
   "cell_type": "markdown",
   "metadata": {},
   "source": [
    "A data frame containing 7 annual observations on 12 variables for 595 individuals.\n",
    "\n",
    "\n",
    "| feature | description |\n",
    "| --------| -------------|\n",
    "| `experience` | Years of full-time work experience |\n",
    "| `weeks` | Weeks worked |\n",
    "| ` education` | Years of education. |\n",
    "| `occupation_white` | factor. Is the individual a white-collar (\"white\"=`True`) or blue-collar (\"blue\"=`False`) worker? |\n",
    "| `industry` | factor. Does the individual work in a manufacturing industry? |\n",
    "| `south_yes` |factor. Does the individual reside in the South? |\n",
    "| `smsa_yes` |factor. Does the individual reside in a SMSA (standard metropolitan statistical area)? |\n",
    "| `married_yes` |factor. Is the individual married? |\n",
    "| `gender_male` | factor indicating a male gender. |\n",
    "| `union_yes` | factor. Is the individual's wage set by a union contract? |\n",
    "| `ethnicity_other` |factor indicating ethnicity. Is the individual African-American (\"afam\") or not (\"other\")? |\n",
    "| `wage_class` | **resopnse** $y$: Wage class (`['average, 'high', 'low', 'very high']`) |\n",
    "\n",
    "\n",
    "\n"
   ]
  },
  {
   "cell_type": "markdown",
   "metadata": {},
   "source": [
    "\n",
    "Here, we import the necessary libraries.\n"
   ]
  },
  {
   "cell_type": "code",
   "execution_count": 2,
   "metadata": {
    "tags": []
   },
   "outputs": [],
   "source": [
    "# Basic Libraries\n",
    "import numpy as np\n",
    "import pandas as pd\n",
    "import matplotlib.pyplot as plt\n",
    "\n",
    "# Evaluation & CV Libraries\n",
    "from sklearn.metrics import precision_score, accuracy_score\n",
    "from sklearn.model_selection import GridSearchCV\n"
   ]
  },
  {
   "cell_type": "code",
   "execution_count": 3,
   "metadata": {
    "tags": []
   },
   "outputs": [
    {
     "data": {
      "text/html": [
       "<div>\n",
       "<style scoped>\n",
       "    .dataframe tbody tr th:only-of-type {\n",
       "        vertical-align: middle;\n",
       "    }\n",
       "\n",
       "    .dataframe tbody tr th {\n",
       "        vertical-align: top;\n",
       "    }\n",
       "\n",
       "    .dataframe thead th {\n",
       "        text-align: right;\n",
       "    }\n",
       "</style>\n",
       "<table border=\"1\" class=\"dataframe\">\n",
       "  <thead>\n",
       "    <tr style=\"text-align: right;\">\n",
       "      <th></th>\n",
       "      <th>experience</th>\n",
       "      <th>weeks</th>\n",
       "      <th>education</th>\n",
       "      <th>occupation_white</th>\n",
       "      <th>industry_yes</th>\n",
       "      <th>south_yes</th>\n",
       "      <th>smsa_yes</th>\n",
       "      <th>married_yes</th>\n",
       "      <th>gender_male</th>\n",
       "      <th>union_yes</th>\n",
       "      <th>ethnicity_other</th>\n",
       "      <th>wage_class</th>\n",
       "    </tr>\n",
       "  </thead>\n",
       "  <tbody>\n",
       "    <tr>\n",
       "      <th>1</th>\n",
       "      <td>3</td>\n",
       "      <td>32</td>\n",
       "      <td>9</td>\n",
       "      <td>1</td>\n",
       "      <td>0</td>\n",
       "      <td>1</td>\n",
       "      <td>0</td>\n",
       "      <td>1</td>\n",
       "      <td>1</td>\n",
       "      <td>0</td>\n",
       "      <td>1</td>\n",
       "      <td>low</td>\n",
       "    </tr>\n",
       "    <tr>\n",
       "      <th>2</th>\n",
       "      <td>4</td>\n",
       "      <td>43</td>\n",
       "      <td>9</td>\n",
       "      <td>1</td>\n",
       "      <td>0</td>\n",
       "      <td>1</td>\n",
       "      <td>0</td>\n",
       "      <td>1</td>\n",
       "      <td>1</td>\n",
       "      <td>0</td>\n",
       "      <td>1</td>\n",
       "      <td>low</td>\n",
       "    </tr>\n",
       "    <tr>\n",
       "      <th>3</th>\n",
       "      <td>5</td>\n",
       "      <td>40</td>\n",
       "      <td>9</td>\n",
       "      <td>1</td>\n",
       "      <td>0</td>\n",
       "      <td>1</td>\n",
       "      <td>0</td>\n",
       "      <td>1</td>\n",
       "      <td>1</td>\n",
       "      <td>0</td>\n",
       "      <td>1</td>\n",
       "      <td>low</td>\n",
       "    </tr>\n",
       "    <tr>\n",
       "      <th>4</th>\n",
       "      <td>6</td>\n",
       "      <td>39</td>\n",
       "      <td>9</td>\n",
       "      <td>1</td>\n",
       "      <td>0</td>\n",
       "      <td>1</td>\n",
       "      <td>0</td>\n",
       "      <td>1</td>\n",
       "      <td>1</td>\n",
       "      <td>0</td>\n",
       "      <td>1</td>\n",
       "      <td>low</td>\n",
       "    </tr>\n",
       "    <tr>\n",
       "      <th>5</th>\n",
       "      <td>7</td>\n",
       "      <td>42</td>\n",
       "      <td>9</td>\n",
       "      <td>1</td>\n",
       "      <td>1</td>\n",
       "      <td>1</td>\n",
       "      <td>0</td>\n",
       "      <td>1</td>\n",
       "      <td>1</td>\n",
       "      <td>0</td>\n",
       "      <td>1</td>\n",
       "      <td>low</td>\n",
       "    </tr>\n",
       "  </tbody>\n",
       "</table>\n",
       "</div>"
      ],
      "text/plain": [
       "   experience  weeks  education  occupation_white  industry_yes  south_yes  \\\n",
       "1           3     32          9                 1             0          1   \n",
       "2           4     43          9                 1             0          1   \n",
       "3           5     40          9                 1             0          1   \n",
       "4           6     39          9                 1             0          1   \n",
       "5           7     42          9                 1             1          1   \n",
       "\n",
       "   smsa_yes  married_yes  gender_male  union_yes  ethnicity_other wage_class  \n",
       "1         0            1            1          0                1        low  \n",
       "2         0            1            1          0                1        low  \n",
       "3         0            1            1          0                1        low  \n",
       "4         0            1            1          0                1        low  \n",
       "5         0            1            1          0                1        low  "
      ]
     },
     "execution_count": 3,
     "metadata": {},
     "output_type": "execute_result"
    }
   ],
   "source": [
    "df_onehot=pd.read_csv('PSID_earnings_onehot.csv', index_col=0)\n",
    "#df.info()\n",
    "df_onehot.head()"
   ]
  },
  {
   "cell_type": "markdown",
   "metadata": {},
   "source": [
    "We check for missing values and NaN, and remove them."
   ]
  },
  {
   "cell_type": "code",
   "execution_count": 4,
   "metadata": {},
   "outputs": [
    {
     "data": {
      "text/plain": [
       "experience          0\n",
       "weeks               0\n",
       "education           0\n",
       "occupation_white    0\n",
       "industry_yes        0\n",
       "south_yes           0\n",
       "smsa_yes            0\n",
       "married_yes         0\n",
       "gender_male         0\n",
       "union_yes           0\n",
       "ethnicity_other     0\n",
       "wage_class          0\n",
       "dtype: int64"
      ]
     },
     "execution_count": 4,
     "metadata": {},
     "output_type": "execute_result"
    }
   ],
   "source": [
    "#drop missing values\n",
    "df_onehot.dropna(inplace=True)\n",
    "df_onehot.isnull().sum()"
   ]
  },
  {
   "cell_type": "markdown",
   "metadata": {},
   "source": [
    "### (a) Extract the features $X$ and the response (label, target) $y$ of the dataset\n",
    "\n",
    "- generate a `numpy` array `X` that contains the features $X$.\n",
    "- generate a `numpy` array `y` that contains the response $y$.\n"
   ]
  },
  {
   "cell_type": "code",
   "execution_count": 30,
   "metadata": {},
   "outputs": [
    {
     "data": {
      "text/html": [
       "<div>\n",
       "<style scoped>\n",
       "    .dataframe tbody tr th:only-of-type {\n",
       "        vertical-align: middle;\n",
       "    }\n",
       "\n",
       "    .dataframe tbody tr th {\n",
       "        vertical-align: top;\n",
       "    }\n",
       "\n",
       "    .dataframe thead th {\n",
       "        text-align: right;\n",
       "    }\n",
       "</style>\n",
       "<table border=\"1\" class=\"dataframe\">\n",
       "  <thead>\n",
       "    <tr style=\"text-align: right;\">\n",
       "      <th></th>\n",
       "      <th>experience</th>\n",
       "      <th>weeks</th>\n",
       "      <th>education</th>\n",
       "      <th>occupation_white</th>\n",
       "      <th>industry_yes</th>\n",
       "      <th>south_yes</th>\n",
       "      <th>smsa_yes</th>\n",
       "      <th>married_yes</th>\n",
       "      <th>gender_male</th>\n",
       "      <th>union_yes</th>\n",
       "      <th>ethnicity_other</th>\n",
       "    </tr>\n",
       "  </thead>\n",
       "  <tbody>\n",
       "    <tr>\n",
       "      <th>1</th>\n",
       "      <td>3</td>\n",
       "      <td>32</td>\n",
       "      <td>9</td>\n",
       "      <td>1</td>\n",
       "      <td>0</td>\n",
       "      <td>1</td>\n",
       "      <td>0</td>\n",
       "      <td>1</td>\n",
       "      <td>1</td>\n",
       "      <td>0</td>\n",
       "      <td>1</td>\n",
       "    </tr>\n",
       "    <tr>\n",
       "      <th>2</th>\n",
       "      <td>4</td>\n",
       "      <td>43</td>\n",
       "      <td>9</td>\n",
       "      <td>1</td>\n",
       "      <td>0</td>\n",
       "      <td>1</td>\n",
       "      <td>0</td>\n",
       "      <td>1</td>\n",
       "      <td>1</td>\n",
       "      <td>0</td>\n",
       "      <td>1</td>\n",
       "    </tr>\n",
       "    <tr>\n",
       "      <th>3</th>\n",
       "      <td>5</td>\n",
       "      <td>40</td>\n",
       "      <td>9</td>\n",
       "      <td>1</td>\n",
       "      <td>0</td>\n",
       "      <td>1</td>\n",
       "      <td>0</td>\n",
       "      <td>1</td>\n",
       "      <td>1</td>\n",
       "      <td>0</td>\n",
       "      <td>1</td>\n",
       "    </tr>\n",
       "    <tr>\n",
       "      <th>4</th>\n",
       "      <td>6</td>\n",
       "      <td>39</td>\n",
       "      <td>9</td>\n",
       "      <td>1</td>\n",
       "      <td>0</td>\n",
       "      <td>1</td>\n",
       "      <td>0</td>\n",
       "      <td>1</td>\n",
       "      <td>1</td>\n",
       "      <td>0</td>\n",
       "      <td>1</td>\n",
       "    </tr>\n",
       "    <tr>\n",
       "      <th>5</th>\n",
       "      <td>7</td>\n",
       "      <td>42</td>\n",
       "      <td>9</td>\n",
       "      <td>1</td>\n",
       "      <td>1</td>\n",
       "      <td>1</td>\n",
       "      <td>0</td>\n",
       "      <td>1</td>\n",
       "      <td>1</td>\n",
       "      <td>0</td>\n",
       "      <td>1</td>\n",
       "    </tr>\n",
       "  </tbody>\n",
       "</table>\n",
       "</div>"
      ],
      "text/plain": [
       "   experience  weeks  education  occupation_white  industry_yes  south_yes  \\\n",
       "1           3     32          9                 1             0          1   \n",
       "2           4     43          9                 1             0          1   \n",
       "3           5     40          9                 1             0          1   \n",
       "4           6     39          9                 1             0          1   \n",
       "5           7     42          9                 1             1          1   \n",
       "\n",
       "   smsa_yes  married_yes  gender_male  union_yes  ethnicity_other  \n",
       "1         0            1            1          0                1  \n",
       "2         0            1            1          0                1  \n",
       "3         0            1            1          0                1  \n",
       "4         0            1            1          0                1  \n",
       "5         0            1            1          0                1  "
      ]
     },
     "metadata": {},
     "output_type": "display_data"
    },
    {
     "data": {
      "text/html": [
       "<div>\n",
       "<style scoped>\n",
       "    .dataframe tbody tr th:only-of-type {\n",
       "        vertical-align: middle;\n",
       "    }\n",
       "\n",
       "    .dataframe tbody tr th {\n",
       "        vertical-align: top;\n",
       "    }\n",
       "\n",
       "    .dataframe thead th {\n",
       "        text-align: right;\n",
       "    }\n",
       "</style>\n",
       "<table border=\"1\" class=\"dataframe\">\n",
       "  <thead>\n",
       "    <tr style=\"text-align: right;\">\n",
       "      <th></th>\n",
       "      <th>wage_class</th>\n",
       "    </tr>\n",
       "  </thead>\n",
       "  <tbody>\n",
       "    <tr>\n",
       "      <th>1</th>\n",
       "      <td>low</td>\n",
       "    </tr>\n",
       "    <tr>\n",
       "      <th>2</th>\n",
       "      <td>low</td>\n",
       "    </tr>\n",
       "    <tr>\n",
       "      <th>3</th>\n",
       "      <td>low</td>\n",
       "    </tr>\n",
       "    <tr>\n",
       "      <th>4</th>\n",
       "      <td>low</td>\n",
       "    </tr>\n",
       "    <tr>\n",
       "      <th>5</th>\n",
       "      <td>low</td>\n",
       "    </tr>\n",
       "  </tbody>\n",
       "</table>\n",
       "</div>"
      ],
      "text/plain": [
       "  wage_class\n",
       "1        low\n",
       "2        low\n",
       "3        low\n",
       "4        low\n",
       "5        low"
      ]
     },
     "metadata": {},
     "output_type": "display_data"
    }
   ],
   "source": [
    "# START CODE HERE \n",
    "feature_cols = [\"experience\" ,\"weeks\",\"education\",\"occupation_white\",\"industry_yes\",\"south_yes\",\"smsa_yes\",\"married_yes\",\"gender_male\",\"union_yes\",\"ethnicity_other\"]\n",
    "target_cols = [\"wage_class\"]\n",
    "X = df_onehot.loc[:, feature_cols]\n",
    "y = df_onehot.loc[:, target_cols]\n",
    "\n",
    "display(X.head())\n",
    "display(y.head())\n",
    "\n",
    "X = X.values\n",
    "y = y.values\n",
    "\n",
    "y = y.reshape(y.shape[0])\n",
    "\n",
    "# END CODE HERE "
   ]
  },
  {
   "cell_type": "markdown",
   "metadata": {},
   "source": [
    "### (b) Plot a histogram of the response $y$ (`'wage_class'`)\n",
    "- Are the classes well balanced?\n",
    "- Answer: Yes, the classes are very well balanced. This can be seen with `y.value_counts()`"
   ]
  },
  {
   "cell_type": "code",
   "execution_count": 36,
   "metadata": {},
   "outputs": [
    {
     "name": "stdout",
     "output_type": "stream",
     "text": [
      "(array(['average', 'high', 'low', 'very high'], dtype=object), array([1045, 1037, 1042, 1041]))\n"
     ]
    },
    {
     "data": {
      "text/plain": [
       "(array([1042.,    0.,    0., 1045.,    0.,    0., 1037.,    0.,    0.,\n",
       "        1041.]),\n",
       " array([0. , 0.3, 0.6, 0.9, 1.2, 1.5, 1.8, 2.1, 2.4, 2.7, 3. ]),\n",
       " <BarContainer object of 10 artists>)"
      ]
     },
     "execution_count": 36,
     "metadata": {},
     "output_type": "execute_result"
    },
    {
     "data": {
      "image/png": "[encoded data removed]",
      "text/plain": [
       "<Figure size 640x480 with 1 Axes>"
      ]
     },
     "metadata": {},
     "output_type": "display_data"
    }
   ],
   "source": [
    "#START CODE HERE\n",
    "print(np.unique(y, return_counts=True))\n",
    "plt.hist(y)\n",
    "#END CODE HERE"
   ]
  },
  {
   "cell_type": "markdown",
   "metadata": {},
   "source": [
    "### (c) Split the data in 80% training data and 20% test data\n"
   ]
  },
  {
   "cell_type": "markdown",
   "metadata": {},
   "source": [
    "Make use of docs `tratrain_test_split?`"
   ]
  },
  {
   "cell_type": "code",
   "execution_count": 97,
   "metadata": {
    "tags": []
   },
   "outputs": [],
   "source": [
    "# Data Pre-processing Libraries\n",
    "from sklearn.model_selection import train_test_split\n",
    "\n",
    "# START CODE HERE \n",
    "X_train, X_test, y_train, y_test = train_test_split(X, y, test_size=0.20, random_state=67)\n",
    "# END CODE HERE "
   ]
  },
  {
   "cell_type": "markdown",
   "metadata": {},
   "source": [
    "### (d) Use the `StandardScaler` to standardize the data"
   ]
  },
  {
   "cell_type": "markdown",
   "metadata": {},
   "source": [
    "Use `plt.boxplot(X_train)` to visualize transformations"
   ]
  },
  {
   "cell_type": "code",
   "execution_count": 98,
   "metadata": {
    "tags": []
   },
   "outputs": [],
   "source": [
    "# Data Pre-processing Libraries\n",
    "from sklearn.preprocessing import StandardScaler\n",
    "\n",
    "#START CODE HERE\n",
    "\n",
    "\n",
    "scaler = StandardScaler()\n",
    "scaler.fit(X_train)\n",
    "X_train = scaler.transform(X_train)\n",
    "X_test = scaler.transform(X_test)\n",
    "\n",
    "# plt.boxplot(X_train)\n",
    "#END CODE HERE"
   ]
  },
  {
   "cell_type": "markdown",
   "metadata": {},
   "source": [
    "### (e) Model Evaluation\n",
    "\n",
    "Use the following **classifiers as baseline** for your classification and evaluate the **precision** (macro average: `average='macro'`) on the training and test data for each of these classifiers\n",
    "\n",
    "- Random Forest classifier (`RandomForestClassifier`) with standard parameters\n",
    "- k-nearest neighbors classifier (`KNeighborsClassifier`) with `k=3`\n",
    "  \n"
   ]
  },
  {
   "cell_type": "code",
   "execution_count": 99,
   "metadata": {},
   "outputs": [],
   "source": [
    "# Modelling Libraries\n",
    "from sklearn.ensemble import RandomForestClassifier\n",
    "from sklearn.neighbors import KNeighborsClassifier\n",
    "\n",
    "from sklearn.metrics import precision_score, accuracy_score\n",
    "from sklearn.metrics import confusion_matrix, ConfusionMatrixDisplay\n",
    "from sklearn.metrics import plot_confusion_matrix\n",
    "\n",
    "classes=['average', 'high', 'low', 'very high']"
   ]
  },
  {
   "cell_type": "code",
   "execution_count": 100,
   "metadata": {
    "tags": []
   },
   "outputs": [
    {
     "name": "stdout",
     "output_type": "stream",
     "text": [
      "RandomForest Precision: train: 0.9679179016964986, test: 0.5447374418430794\n",
      "KNN Precision: train: 0.761006551380883, test: 0.505602233810975\n"
     ]
    },
    {
     "data": {
      "image/png": "[encoded data removed]",
      "text/plain": [
       "<Figure size 640x480 with 2 Axes>"
      ]
     },
     "metadata": {},
     "output_type": "display_data"
    },
    {
     "data": {
      "image/png": "[encoded data removed]",
      "text/plain": [
       "<Figure size 640x480 with 2 Axes>"
      ]
     },
     "metadata": {},
     "output_type": "display_data"
    }
   ],
   "source": [
    "#START CODE HERE\n",
    "\n",
    "def get_cm(y_test, y_pred, model):\n",
    "    cm = confusion_matrix(y_test, y_pred, labels=model.classes_)\n",
    "    disp = ConfusionMatrixDisplay(confusion_matrix=cm, display_labels=model.classes_)\n",
    "    disp.plot()\n",
    "\n",
    "\n",
    "rf_model = RandomForestClassifier(random_state=67).fit(X=X_train, y=y_train)\n",
    "rf_pred = rf_model.predict(X_test)\n",
    "rf_pred_train = rf_model.predict(X_train)\n",
    "rf_precision_train = precision_score(y_train, rf_pred_train, average='macro')\n",
    "rf_precision = precision_score(y_test, rf_pred, average='macro')\n",
    "\n",
    "get_cm(y_test, rf_pred, rf_model)\n",
    "print(f'RandomForest Precision: train: {rf_precision_train}, test: {rf_precision}')\n",
    "\n",
    "knn_model = KNeighborsClassifier(n_neighbors=3).fit(X=X_train, y=y_train)\n",
    "knn_pred = knn_model.predict(X_test)\n",
    "knn_pred_train = knn_model.predict(X_train)\n",
    "knn_precision_train = precision_score(y_train, knn_pred_train, average='macro')\n",
    "knn_precision = precision_score(y_test, knn_pred, average='macro')\n",
    "\n",
    "print(f'KNN Precision: train: {knn_precision_train}, test: {knn_precision}')\n",
    "\n",
    "get_cm(y_test, knn_pred, knn_model)\n",
    "\n",
    "#END CODE HERE"
   ]
  },
  {
   "cell_type": "markdown",
   "metadata": {},
   "source": [
    "### (f) Plot a confusion matrix for each classifier and interpret the results\n",
    "\n",
    "Plot a **Confusion Matrix** for each of the two classifiers, e.g. using\n",
    "   - `cm = confusion_matrix(y_test, y_pred, labels=model.classes_)`\n",
    "   - ` disp = ConfusionMatrixDisplay(confusion_matrix=cm, display_labels=model.classes_)`\n",
    "   \n",
    "\n",
    "Enter your comments in at least two sentences here:\n",
    "- Both classifier have no problem when predicting the `low` class\n",
    "- Overall the `RandomForestClassifier` does a slightly better job assigning each class.\n",
    "- Both classifier seem to have problems to identify the classes `average`, `high` and `very high`"
   ]
  },
  {
   "cell_type": "markdown",
   "metadata": {
    "execution": {
     "iopub.execute_input": "2021-06-04T18:26:28.073856Z",
     "iopub.status.busy": "2021-06-04T18:26:28.073392Z",
     "iopub.status.idle": "2021-06-04T18:26:28.081845Z",
     "shell.execute_reply": "2021-06-04T18:26:28.080138Z",
     "shell.execute_reply.started": "2021-06-04T18:26:28.073817Z"
    }
   },
   "source": [
    "###  (g) Hyperparameter Tuning of random forest\n",
    "\n",
    "- Tune the hyperparameters a Random Forest Classifier `RandomForestClassifier()` using a 10-fold crossvalidated grid search using `GridSearchCV`. \n",
    "- Use the following hyperparameters for your grid search:\n",
    "    - `params= {'n_estimators':[10,50,100,200], 'max_depth':list(range(1,7))}`\n",
    "- Use the F1 (`f1_macro`) score as a metric.\n",
    "- What are the best parameters out of the grid?"
   ]
  },
  {
   "cell_type": "code",
   "execution_count": 61,
   "metadata": {
    "tags": []
   },
   "outputs": [],
   "source": [
    "from sklearn.model_selection import GridSearchCV\n",
    "\n",
    "rf=RandomForestClassifier()\n",
    "params= {'n_estimators':[10,50,100,200],\n",
    "         'max_depth':list(range(1,7))}"
   ]
  },
  {
   "cell_type": "code",
   "execution_count": 62,
   "metadata": {
    "tags": []
   },
   "outputs": [
    {
     "name": "stdout",
     "output_type": "stream",
     "text": [
      "[0.45032806 0.51838871 0.4687454  0.42478323 0.44790412 0.5332214\n",
      " 0.47551758 0.44215896 0.44823633 0.47975831]\n"
     ]
    },
    {
     "data": {
      "text/plain": [
       "{'max_depth': 6, 'n_estimators': 200}"
      ]
     },
     "execution_count": 62,
     "metadata": {},
     "output_type": "execute_result"
    }
   ],
   "source": [
    "from sklearn.model_selection import cross_val_score\n",
    "\n",
    "#START CODE HERE\n",
    "\n",
    "#cross_val_score?\n",
    "#cross_val_score(rf, X_train, y_train\n",
    "\n",
    "\n",
    "k_fold = 10\n",
    "clf = GridSearchCV(rf, params)\n",
    "clf.fit(X_train, y_train)\n",
    "score = cross_val_score(clf, X_train, y_train, cv=k_fold, scoring='f1_macro')\n",
    "print(score)\n",
    "\n",
    "clf.best_params_\n",
    "#END CODE HERE\n"
   ]
  },
  {
   "cell_type": "markdown",
   "metadata": {},
   "source": [
    "### (h) Compute and plot the permutation feature importances of the best tuned random forest classifier\n",
    "- What are the most important factors for a high salary?\n"
   ]
  },
  {
   "cell_type": "code",
   "execution_count": 68,
   "metadata": {},
   "outputs": [
    {
     "name": "stdout",
     "output_type": "stream",
     "text": [
      "union_yes is the most important feature\n"
     ]
    }
   ],
   "source": [
    "from sklearn.inspection import permutation_importance\n",
    "\n",
    "#START CODE HERE \n",
    "\n",
    "\n",
    "# permutation_importance?\n",
    "best_estimator = clf.best_estimator_\n",
    "\n",
    "importances = permutation_importance(best_estimator, X_train, y_train)\n",
    "argmax = importances['importances_mean'].argmax()\n",
    "print(f'{df_onehot.columns[argmax]} is the most important feature')\n",
    "# END CODE HERE\n",
    "\n",
    "\n",
    "\n",
    "\n",
    "#START CODE HERE \n",
    "\n",
    "# get the best model from the grid search CV\n",
    "best_rf_model = clf.best_estimator_\n",
    "# compute the feature importances using permutation test\n",
    "perm_importances = permutation_importance(\n",
    "    best_rf_model, X_test, y_test, n_repeats=10, random_state=42, n_jobs=2)\n",
    "# put them in a Series\n",
    "forest_importances = pd.Series(perm_importances.importances_mean, index=feature_cols)\n",
    "# sort them (get the indices of the sorted array to be able to apply it on the errors)\n",
    "sort_index = np.argsort(forest_importances)[::-1]\n",
    "\n",
    "# plot the importances\n",
    "fig, ax = plt.subplots()\n",
    "forest_importances[sort_index].plot.bar(yerr=perm_importances.importances_std[sort_index], ax=ax)\n",
    "ax.set_title(\"Feature importances using permutation on full model\")\n",
    "ax.set_ylabel(\"Mean accuracy decrease\")\n",
    "fig.tight_layout()\n",
    "plt.show()\n",
    "\n",
    "#END CODE HERE\n"
   ]
  },
  {
   "cell_type": "markdown",
   "metadata": {},
   "source": [
    "###  (i) Hyperparameter Tuning of kNN\n",
    "\n",
    "- Hypertune a K-nearest neighbour classifier `KNeighborsClassifier()` using a 10-fold crossvalidated grid search. \n",
    "- Use the following parameters for your grid search:\n",
    "    - `params= {'n_neighbors':list(range(20,50))}`\n",
    "- Use the F1 score (`scoring=f1_macro`) as a metric.\n",
    "- What are the best parameters for the number of neighbours?"
   ]
  },
  {
   "cell_type": "code",
   "execution_count": 64,
   "metadata": {},
   "outputs": [],
   "source": [
    "knn=KNeighborsClassifier()\n",
    "params= {'n_neighbors':list(range(20,50))}"
   ]
  },
  {
   "cell_type": "code",
   "execution_count": 65,
   "metadata": {},
   "outputs": [
    {
     "name": "stdout",
     "output_type": "stream",
     "text": [
      "[0.41088285 0.46971733 0.3843663  0.41577204 0.43001285 0.48372964\n",
      " 0.47352155 0.42433243 0.46003794 0.43732336]\n"
     ]
    },
    {
     "data": {
      "text/plain": [
       "{'n_neighbors': 44}"
      ]
     },
     "execution_count": 65,
     "metadata": {},
     "output_type": "execute_result"
    }
   ],
   "source": [
    "#START CODE HERE\n",
    "\n",
    "\n",
    "k_fold = 10\n",
    "clf = GridSearchCV(knn, params)\n",
    "knn_cls = clf.fit(X_train, y_train)\n",
    "\n",
    "score = cross_val_score(knn_cls, X_train, y_train, cv=k_fold, scoring='f1_macro')\n",
    "\n",
    "print(score)\n",
    "\n",
    "clf.best_params_\n",
    "#END CODE HERE\n"
   ]
  },
  {
   "cell_type": "markdown",
   "metadata": {},
   "source": [
    "### (j) Compare and discuss the different approaches\n",
    "\n",
    "- Considering the classifiers (e/f) where the hyperparameters were not tuned and those where the hyperparameters were tuned (g/i), respectively, which classifier would you recommend and why?\n",
    "\n",
    "Answers:\n",
    "- ...\n",
    "- ... "
   ]
  },
  {
   "cell_type": "markdown",
   "metadata": {},
   "source": [
    "## Upload this notebook as ipynb-File and as html-File (File  →  Download as  →  HTML) to the upload field of this question (2 files are allowed). "
   ]
  }
 ],
 "metadata": {
  "kernelspec": {
   "display_name": "Python 3 (ipykernel)",
   "language": "python",
   "name": "python3"
  },
  "language_info": {
   "codemirror_mode": {
    "name": "ipython",
    "version": 3
   },
   "file_extension": ".py",
   "mimetype": "text/x-python",
   "name": "python",
   "nbconvert_exporter": "python",
   "pygments_lexer": "ipython3",
   "version": "3.10.6"
  },
  "nbTranslate": {
   "displayLangs": [
    "*"
   ],
   "hotkey": "alt-t",
   "langInMainMenu": true,
   "sourceLang": "en",
   "targetLang": "fr",
   "useGoogleTranslate": true
  }
 },
 "nbformat": 4,
 "nbformat_minor": 4
}
